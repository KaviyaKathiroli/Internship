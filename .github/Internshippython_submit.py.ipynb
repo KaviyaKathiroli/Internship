{
 "cells": [
  {
   "cell_type": "code",
   "execution_count": 13,
   "id": "c590a44b",
   "metadata": {},
   "outputs": [
    {
     "data": {
      "text/plain": [
       "'Which of the following operators is used to calculate remainder in a division? c)%'"
      ]
     },
     "execution_count": 13,
     "metadata": {},
     "output_type": "execute_result"
    }
   ],
   "source": [
    "'''Which of the following operators is used to calculate remainder in a division? c)%'''\n"
   ]
  },
  {
   "cell_type": "code",
   "execution_count": 8,
   "id": "8c2d1861",
   "metadata": {
    "scrolled": false
   },
   "outputs": [
    {
     "name": "stdout",
     "output_type": "stream",
     "text": [
      "0\n"
     ]
    }
   ],
   "source": [
    "a=2//3\n",
    "print(a)"
   ]
  },
  {
   "cell_type": "code",
   "execution_count": 2,
   "id": "7b55a614",
   "metadata": {},
   "outputs": [
    {
     "name": "stdout",
     "output_type": "stream",
     "text": [
      "24\n"
     ]
    }
   ],
   "source": [
    "a=6<<2\n",
    "print(a)"
   ]
  },
  {
   "cell_type": "code",
   "execution_count": 5,
   "id": "11a8530b",
   "metadata": {},
   "outputs": [
    {
     "name": "stdout",
     "output_type": "stream",
     "text": [
      "2\n"
     ]
    }
   ],
   "source": [
    "_a=6&2\n",
    "print(_a)"
   ]
  },
  {
   "cell_type": "code",
   "execution_count": 6,
   "id": "5d95cc02",
   "metadata": {},
   "outputs": [
    {
     "name": "stdout",
     "output_type": "stream",
     "text": [
      "6\n"
     ]
    }
   ],
   "source": [
    "a2=6|2\n",
    "print(a2)"
   ]
  },
  {
   "cell_type": "code",
   "execution_count": 12,
   "id": "9bb6fe5d",
   "metadata": {
    "scrolled": true
   },
   "outputs": [
    {
     "data": {
      "text/plain": [
       "'What does the finally keyword denotes in python? C) the finally block will be executed no matter if the try block raises an error or not.'"
      ]
     },
     "execution_count": 12,
     "metadata": {},
     "output_type": "execute_result"
    }
   ],
   "source": [
    "'''What does the finally keyword denotes in python? C) the finally block will be executed no matter if the try block raises an error or not.'''"
   ]
  },
  {
   "cell_type": "code",
   "execution_count": null,
   "id": "c7e90bf0",
   "metadata": {},
   "outputs": [],
   "source": [
    "'''What does raise keyword is used for in python? A) It is used to raise an exception'''"
   ]
  },
  {
   "cell_type": "code",
   "execution_count": null,
   "id": "460e4131",
   "metadata": {},
   "outputs": [],
   "source": [
    "'''Which of the following is a common use case of yield keyword in python? C) in defining a generator'''"
   ]
  },
  {
   "cell_type": "code",
   "execution_count": 14,
   "id": "a744d3ac",
   "metadata": {},
   "outputs": [
    {
     "data": {
      "text/plain": [
       "'Which of the following are the valid variable names? B) 1abc'"
      ]
     },
     "execution_count": 14,
     "metadata": {},
     "output_type": "execute_result"
    }
   ],
   "source": [
    "'''Which of the following are the valid variable names? B) 1abc'''"
   ]
  },
  {
   "cell_type": "code",
   "execution_count": null,
   "id": "2b19f1c6",
   "metadata": {},
   "outputs": [],
   "source": [
    "'''Which of the following are the keywords in python? D) all of the above'''"
   ]
  },
  {
   "cell_type": "code",
   "execution_count": 53,
   "id": "e4de2751",
   "metadata": {},
   "outputs": [
    {
     "name": "stdout",
     "output_type": "stream",
     "text": [
      "Enter a number:6\n",
      "factorial of  6  is:  720\n"
     ]
    }
   ],
   "source": [
    "##factorial of a number\n",
    "n=int(input(\"Enter a number:\"))\n",
    "f=1\n",
    "for i in range(1,n+1):\n",
    "    f=f*i\n",
    "print(\"factorial of \",n, \" is: \",f)"
   ]
  },
  {
   "cell_type": "code",
   "execution_count": 10,
   "id": "302b5a44",
   "metadata": {
    "scrolled": true
   },
   "outputs": [
    {
     "name": "stdout",
     "output_type": "stream",
     "text": [
      "factorial is:  720\n"
     ]
    }
   ],
   "source": [
    "##factorial of a number with user defined fucntion\n",
    "def factorials(n):\n",
    "    f=1\n",
    "    for i in range(1,n+1):\n",
    "        f=f*i\n",
    "    return f\n",
    "\n",
    "print(\"factorial is: \",factorials(6))"
   ]
  },
  {
   "cell_type": "code",
   "execution_count": 55,
   "id": "f217609c",
   "metadata": {
    "scrolled": true
   },
   "outputs": [
    {
     "name": "stdout",
     "output_type": "stream",
     "text": [
      "Composite number\n"
     ]
    }
   ],
   "source": [
    "##Prime number program in user defined function\n",
    "def prime_composite(x):\n",
    "    P = 0\n",
    "    for i in range(2,x+1):\n",
    "        if x % i == 0:\n",
    "          P = 1\n",
    "        break        \n",
    "    if P == 1:\n",
    "        print(\"Composite number\")\n",
    "    else:\n",
    "        print(\"Prime Numbner\")\n",
    "        \n",
    "        \n",
    "prime_composite(12)  "
   ]
  },
  {
   "cell_type": "code",
   "execution_count": 2,
   "id": "7b4224e8",
   "metadata": {
    "scrolled": false
   },
   "outputs": [],
   "source": [
    "##Prime number program in user defined function\n",
    "def prime_comp():\n",
    "    count=0\n",
    "    n=int(input(\"Enter a number\"))\n",
    "    for i in range(1,n+1):\n",
    "        if n % i == 0:\n",
    "            count+=1\n",
    "            \n",
    "    if count == 2:\n",
    "        print(\"Prime\")\n",
    "    else:\n",
    "        print(\"Composite\")\n",
    "  \n"
   ]
  },
  {
   "cell_type": "code",
   "execution_count": 3,
   "id": "2690a5cf",
   "metadata": {},
   "outputs": [
    {
     "name": "stdout",
     "output_type": "stream",
     "text": [
      "Enter a number3\n",
      "Prime\n"
     ]
    }
   ],
   "source": [
    "prime_comp()"
   ]
  },
  {
   "cell_type": "code",
   "execution_count": 20,
   "id": "f2e42e29",
   "metadata": {},
   "outputs": [
    {
     "name": "stdout",
     "output_type": "stream",
     "text": [
      "Enter String: madam\n",
      "Palindrome\n"
     ]
    }
   ],
   "source": [
    "##Palindrome string\n",
    "gString = input(\"Enter String: \")\n",
    "rString = gString[::-1]\n",
    "if gString.lower()==rString.lower():\n",
    "    print(\"Palindrome\")\n",
    "else:\n",
    "    print(\"Not Palindrome\")"
   ]
  },
  {
   "cell_type": "code",
   "execution_count": 27,
   "id": "de84c7f5",
   "metadata": {
    "scrolled": false
   },
   "outputs": [
    {
     "name": "stdout",
     "output_type": "stream",
     "text": [
      "1\n",
      "2\n",
      "3\n"
     ]
    }
   ],
   "source": [
    "l=[3,4,6,9,0]\n",
    "for i in range(1,4):\n",
    "    print(i)"
   ]
  },
  {
   "cell_type": "code",
   "execution_count": 37,
   "id": "89d39829",
   "metadata": {},
   "outputs": [],
   "source": [
    "##Palindrome program in user defined function\n",
    "def palindromestr():\n",
    "    gString=input(\"Enter String: \")\n",
    "    l=len(gString)-1\n",
    "    rString=\"\"\n",
    "    for i in range(l,-1,-1):\n",
    "        rString+=gString[i]\n",
    "    if gString.lower()==rString.lower():\n",
    "        print(\"Palindrome\")\n",
    "    else:\n",
    "        print(\"Not Palindrome\") \n",
    "        "
   ]
  },
  {
   "cell_type": "code",
   "execution_count": 38,
   "id": "4c950dbb",
   "metadata": {
    "scrolled": false
   },
   "outputs": [
    {
     "name": "stdout",
     "output_type": "stream",
     "text": [
      "Enter String: madam\n",
      "Palindrome\n"
     ]
    }
   ],
   "source": [
    "palindromestr()"
   ]
  },
  {
   "cell_type": "code",
   "execution_count": 47,
   "id": "eef73a56",
   "metadata": {
    "scrolled": true
   },
   "outputs": [
    {
     "name": "stdout",
     "output_type": "stream",
     "text": [
      "enter side1: 5\n",
      "Enter side2: 6\n",
      "third Side:  7.810249675906654\n"
     ]
    }
   ],
   "source": [
    "##Third side of right-angled traingle\n",
    "import math\n",
    "adj = float(input(\"enter side1: \"))\n",
    "opp=float(input(\"Enter side2: \"))\n",
    "hyp=sqrt(adj**2 + opp**2)\n",
    "print(\"third Side: \",hyp)"
   ]
  },
  {
   "cell_type": "code",
   "execution_count": 16,
   "id": "baa3ea05",
   "metadata": {},
   "outputs": [
    {
     "name": "stdout",
     "output_type": "stream",
     "text": [
      "Enter String: i love india\n",
      "{'i': 3, ' ': 2, 'l': 1, 'o': 1, 'v': 1, 'e': 1, 'n': 1, 'd': 1, 'a': 1}\n"
     ]
    }
   ],
   "source": [
    "##each letter frequency program\n",
    "word=input(\"Enter String: \")\n",
    "all_freq={}\n",
    "for i in word:\n",
    "    if i in all_freq:\n",
    "        all_freq[i]+=1\n",
    "    else:\n",
    "        all_freq[i]=1\n",
    "print(all_freq)"
   ]
  },
  {
   "cell_type": "code",
   "execution_count": 11,
   "id": "bc2b7044",
   "metadata": {},
   "outputs": [
    {
     "name": "stdout",
     "output_type": "stream",
     "text": [
      "Enter String: education\n",
      "e- 1\n",
      "d- 1\n",
      "u- 1\n",
      "c- 1\n",
      "a- 1\n",
      "t- 1\n",
      "i- 1\n",
      "o- 1\n",
      "n- 1\n"
     ]
    }
   ],
   "source": [
    "##each letter frequency program\n",
    "word=input(\"Enter String: \")\n",
    "for i in range(len(word)):\n",
    "    if(len(word))==0:\n",
    "        break;\n",
    "    c=word[0]\n",
    "    if c==' ' or c=='\\t':\n",
    "        continue\n",
    "    count=1\n",
    "    for j in range(1,len(word)):\n",
    "        if c==word[j]:\n",
    "            count+=1\n",
    "    word=word.replace(c,'').strip()\n",
    "    print(c+\"-\",count)"
   ]
  },
  {
   "cell_type": "code",
   "execution_count": null,
   "id": "b399b860",
   "metadata": {},
   "outputs": [],
   "source": []
  }
 ],
 "metadata": {
  "kernelspec": {
   "display_name": "Python 3 (ipykernel)",
   "language": "python",
   "name": "python3"
  },
  "language_info": {
   "codemirror_mode": {
    "name": "ipython",
    "version": 3
   },
   "file_extension": ".py",
   "mimetype": "text/x-python",
   "name": "python",
   "nbconvert_exporter": "python",
   "pygments_lexer": "ipython3",
   "version": "3.9.7"
  }
 },
 "nbformat": 4,
 "nbformat_minor": 5
}
